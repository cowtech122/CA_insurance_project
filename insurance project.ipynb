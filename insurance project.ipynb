{
 "cells": [
  {
   "cell_type": "code",
   "execution_count": 75,
   "id": "184a56fe-4f8f-48c8-a54a-704efc7db29b",
   "metadata": {},
   "outputs": [
    {
     "name": "stdin",
     "output_type": "stream",
     "text": [
      "Do you want information based on age, sex, region, children, or smoker? region\n"
     ]
    },
    {
     "name": "stdout",
     "output_type": "stream",
     "text": [
      "There are 324 people listed as northeast under region. Their average insurance cost is $13406.38, with a median of $10072.06.\n",
      "There are 325 people listed as northwest under region. Their average insurance cost is $12417.58, with a median of $8965.8.\n",
      "There are 364 people listed as southeast under region. Their average insurance cost is $14735.41, with a median of $9304.7.\n",
      "There are 325 people listed as southwest under region. Their average insurance cost is $12346.94, with a median of $8798.59.\n"
     ]
    }
   ],
   "source": [
    "import csv\n",
    "\n",
    "def category_info(column):\n",
    "#Import file\n",
    "    with open('insurance.csv') as insurance_csv:\n",
    "        insurance_file = csv.DictReader(insurance_csv)\n",
    "    #    for row in insurance_file:\n",
    "    #        print(row['age'])\n",
    "        def find_avg(category):\n",
    "            cat_dict = {}\n",
    "    #Create a dictionary where the key is unique instances for the category column, and the values are a list of all the charges\n",
    "            for row in insurance_file:\n",
    "                element = row[category]\n",
    "                if element not in cat_dict:\n",
    "                    cat_dict[element] = []\n",
    "                cat_dict[element].append(float(row['charges']))\n",
    "            cat_dict = dict(sorted(cat_dict.items()))\n",
    "            for values in cat_dict.values():\n",
    "                values.sort()\n",
    "    #        print(cat_dict)\n",
    "    # finding the length and average of each unique instance in the requested category\n",
    "            for key in cat_dict:\n",
    "                total = 0\n",
    "                for price in cat_dict[key]:\n",
    "    #                print(price)\n",
    "                    total += float(price)\n",
    "                avg = round(total / len(cat_dict[key]), 2)\n",
    "                med = round(float(cat_dict[key][int(len(cat_dict[key])/2)]), 2)\n",
    "                print('There are {numb} people listed as {key} under {category}. Their average insurance cost is ${avg}, with a median of ${median}.'.format(numb=len(cat_dict[key]), key=key, category=category, avg=avg, median=med))\n",
    "            \n",
    "            return cat_dict\n",
    "            \n",
    "        find_avg(column)\n",
    "\n",
    "choice = input(\"Do you want information based on age, sex, region, children, or smoker?\")\n",
    "if choice == 'age' or choice =='sex' or choice == 'region' or choice == 'children' or choice == 'smoker':\n",
    "    category_info(choice)\n",
    "else:\n",
    "    print('Try again')"
   ]
  },
  {
   "cell_type": "code",
   "execution_count": null,
   "id": "97a1bc6b-79c4-45df-a842-efafa1627264",
   "metadata": {},
   "outputs": [],
   "source": []
  }
 ],
 "metadata": {
  "kernelspec": {
   "display_name": "Python 3 (ipykernel)",
   "language": "python",
   "name": "python3"
  },
  "language_info": {
   "codemirror_mode": {
    "name": "ipython",
    "version": 3
   },
   "file_extension": ".py",
   "mimetype": "text/x-python",
   "name": "python",
   "nbconvert_exporter": "python",
   "pygments_lexer": "ipython3",
   "version": "3.12.4"
  }
 },
 "nbformat": 4,
 "nbformat_minor": 5
}
